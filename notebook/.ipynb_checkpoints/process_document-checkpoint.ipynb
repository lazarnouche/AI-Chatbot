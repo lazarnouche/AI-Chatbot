{
 "cells": [
  {
   "cell_type": "code",
   "execution_count": 1,
   "metadata": {
    "ExecuteTime": {
     "end_time": "2024-02-08T08:44:16.478929Z",
     "start_time": "2024-02-08T08:44:16.437628Z"
    }
   },
   "outputs": [
    {
     "name": "stdout",
     "output_type": "stream",
     "text": [
      "3.10.0\n"
     ]
    }
   ],
   "source": [
    "import sys, platform, os,time\n",
    "print(platform.python_version())\n",
    "%load_ext autoreload\n",
    "%autoreload 2"
   ]
  },
  {
   "cell_type": "code",
   "execution_count": 2,
   "metadata": {
    "ExecuteTime": {
     "end_time": "2024-02-08T08:44:17.300942Z",
     "start_time": "2024-02-08T08:44:17.200364Z"
    }
   },
   "outputs": [],
   "source": [
    "def change_file_name():\n",
    "    all_files =  [x for x in os.listdir(train_path) if x.endswith('.png') \n",
    "              or x.endswith('.jpg') or x.endswith('.json')]\n",
    "    for f in all_files:\n",
    "        if \"PartII_\" in f or \"PartI_\" in f :\n",
    "            continue\n",
    "        if not \"Part1\" in f:\n",
    "            os.rename(train_path+os.sep+f,train_path+os.sep+f\"PartII_\"+f)\n",
    "        else: \n",
    "            os.rename(train_path+os.sep+f,\"PartI_\"+f.split(\"Part1\")[1])\n",
    "            \n",
    "def save_mask(ListImages):\n",
    "    for path_ in ListImages:\n",
    "        filled = create_mask(train_path+os.sep+path_)\n",
    "        cv2.imwrite(mask_path+os.sep+\"mask_\"+path_, filled)"
   ]
  },
  {
   "cell_type": "code",
   "execution_count": 3,
   "metadata": {
    "ExecuteTime": {
     "end_time": "2024-02-08T08:46:01.535446Z",
     "start_time": "2024-02-08T08:46:01.506384Z"
    }
   },
   "outputs": [],
   "source": [
    "# path = \"/Users/Meshkan/Desktop/Etch_AI/\"\n",
    "# mask_path = os.path.join(path, \"mask\")\n",
    "# dir_path = os.path.join(path, \"images\")\n",
    "# ListImages=[x for x in os.listdir(dir_path) if x.endswith('.png') or x.endswith('.jpg')]\n",
    "# ListImages.sort()"
   ]
  },
  {
   "cell_type": "code",
   "execution_count": 4,
   "metadata": {
    "ExecuteTime": {
     "end_time": "2024-02-08T08:46:02.381981Z",
     "start_time": "2024-02-08T08:46:02.355815Z"
    }
   },
   "outputs": [],
   "source": []
  },
  {
   "cell_type": "code",
   "execution_count": null,
   "metadata": {
    "ExecuteTime": {
     "end_time": "2024-02-08T08:46:11.578882Z",
     "start_time": "2024-02-08T08:46:11.546654Z"
    }
   },
   "outputs": [],
   "source": []
  },
  {
   "cell_type": "code",
   "execution_count": null,
   "metadata": {},
   "outputs": [],
   "source": []
  }
 ],
 "metadata": {
  "kernelspec": {
   "display_name": "dev",
   "language": "python",
   "name": "dev"
  },
  "language_info": {
   "codemirror_mode": {
    "name": "ipython",
    "version": 3
   },
   "file_extension": ".py",
   "mimetype": "text/x-python",
   "name": "python",
   "nbconvert_exporter": "python",
   "pygments_lexer": "ipython3",
   "version": "3.10.0"
  }
 },
 "nbformat": 4,
 "nbformat_minor": 4
}
