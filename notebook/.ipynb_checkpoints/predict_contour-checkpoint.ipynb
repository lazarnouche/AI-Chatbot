{
 "cells": [
  {
   "cell_type": "code",
   "execution_count": null,
   "metadata": {
    "ExecuteTime": {
     "end_time": "2024-02-19T16:25:01.317367Z",
     "start_time": "2024-02-19T16:25:01.304127Z"
    }
   },
   "outputs": [],
   "source": [
    "label_color = {\n",
    "    \"void\":[0,0,0],\n",
    "    \"cross\":[255,255,255],\n",
    "    \"tsv\":[255, 255,0],\n",
    "    \"cross_staircase\":[255, 0, 255]\n",
    "}"
   ]
  },
  {
   "cell_type": "code",
   "execution_count": 3,
   "metadata": {
    "ExecuteTime": {
     "end_time": "2024-02-19T16:25:17.725011Z",
     "start_time": "2024-02-19T16:25:17.718819Z"
    }
   },
   "outputs": [],
   "source": [
    "import cv2\n",
    "import torchvision.models.segmentation\n",
    "import torch\n",
    "import torchvision.transforms as tf\n",
    "import matplotlib.pyplot as plt\n",
    "import os\n",
    "import numpy as np\n",
    "import tkinter as tk\n",
    "from tkinter import filedialog\n",
    "import torchvision.transforms as transforms"
   ]
  },
  {
   "cell_type": "code",
   "execution_count": 258,
   "metadata": {
    "ExecuteTime": {
     "end_time": "2024-02-19T23:37:02.389318Z",
     "start_time": "2024-02-19T23:37:02.350849Z"
    }
   },
   "outputs": [],
   "source": [
    "def plot_prediction(model,device,imagePath):\n",
    "    \n",
    "    height=width=800\n",
    "    transformImg = tf.Compose([tf.ToPILImage(), \n",
    "                               tf.Resize((height, width)), \n",
    "                               tf.ToTensor(),tf.Normalize((0.485, 0.456, 0.406),(0.229, 0.224, 0.225))])\n",
    "    \n",
    "    \n",
    "    img = cv2.imread(imagePath) # load test image\n",
    "    height_orgin , widh_orgin ,d = img.shape # Get image original size \n",
    "    Img = transformImg(img)  # Transform to pytorch\n",
    "    Img = torch.autograd.Variable(Img, requires_grad=False).to(device).unsqueeze(0)\n",
    "    with torch.no_grad():\n",
    "        Prd = model(Img)['out']  # Run net\n",
    "    # resize to orginal size\n",
    "    Prd = tf.Resize((height_orgin,widh_orgin))(Prd[0])\n",
    "    #Convert probability to class map\n",
    "    seg = torch.argmax(Prd, 0).cpu().detach().numpy()\n",
    "    \n",
    "    \n",
    "    class_name = list(label_color.keys())[np.max(seg)]\n",
    "    \n",
    "    \n",
    "    seg = post_process_mask(seg)\n",
    "    fig, patterns = draw_contour(img,seg)\n",
    "\n",
    "    \n",
    "    \n",
    "    return fig, patterns\n"
   ]
  },
  {
   "cell_type": "code",
   "execution_count": 263,
   "metadata": {
    "ExecuteTime": {
     "end_time": "2024-02-19T23:38:23.584156Z",
     "start_time": "2024-02-19T23:38:23.567678Z"
    }
   },
   "outputs": [],
   "source": [
    "def calculate_edges(cnt,centroid,thrs = 0.3):\n",
    "    \n",
    "    edges = {}\n",
    "    centroid_x = centroid[0]\n",
    "    centroid_y = centroid[1]\n",
    "    left_bool = cnt[:,:,0] < centroid_x\n",
    "    left_side = cnt[:,:,0][left_bool]\n",
    "    right_bool = cnt[:,:,0] > centroid_x\n",
    "    right_side = cnt[:,:,0][right_bool]\n",
    "    \n",
    "    y_left = cnt[:,:,1][left_bool]\n",
    "    y_right = cnt[:,:,1][right_bool]\n",
    "    \n",
    "    threshold_top_left = np.min(y_left)+abs(np.min(y_left)-centroid_y)*thrs\n",
    "    index_top_left = np.argmin(abs(y_left-threshold_top_left))\n",
    "\n",
    "    threshold_top_right = np.min(y_right)+abs(np.min(y_right)-centroid_y)*thrs\n",
    "    index_top_right = np.argmin(abs(y_right-threshold_top_right))\n",
    "    \n",
    "    \n",
    "    ########\n",
    "    \n",
    "    threshold_bottom_left = np.max(y_left)-abs(np.max(y_left)-centroid_y)*thrs\n",
    "    index_bottom_left = np.argmin(abs(y_left-threshold_bottom_left))\n",
    "\n",
    "    threshold_bottom_right = np.max(y_right)-abs(np.max(y_right)-centroid_y)*thrs\n",
    "    index_bottom_right = np.argmin(abs(y_right-threshold_bottom_right))\n",
    "    \n",
    "    ########\n",
    "    \n",
    "    edge_mid_left = left_side[np.argmin(abs(y_left-centroid_y))]\n",
    "    edge_top_left = left_side[index_top_left]\n",
    "    edge_bott_left = left_side[index_bottom_left]\n",
    "    \n",
    "    edge_mid_right = right_side[np.argmin(abs(y_right-centroid_y))]\n",
    "    edge_top_right = right_side[index_top_right]\n",
    "    edge_bott_right = right_side[index_bottom_right]\n",
    "    \n",
    "    edges[\"bottom\"] = [edge_bott_left,edge_bott_right,y_left[index_bottom_left]]\n",
    "    edges[\"mid\"] = [edge_mid_left,edge_mid_right,centroid_y]\n",
    "    edges[\"top\"] = [edge_top_left,edge_top_right,y_left[index_top_left]]\n",
    "    \n",
    "    \n",
    "    return edges"
   ]
  },
  {
   "cell_type": "code",
   "execution_count": 264,
   "metadata": {
    "ExecuteTime": {
     "end_time": "2024-02-19T23:38:24.193920Z",
     "start_time": "2024-02-19T23:38:24.176098Z"
    }
   },
   "outputs": [],
   "source": [
    "def draw_contour(img,mask):\n",
    "    mask = cv2.convertScaleAbs(mask)\n",
    "    cnts = cv2.findContours(mask, cv2.RETR_EXTERNAL, cv2.CHAIN_APPROX_SIMPLE)\n",
    "    cnts = cnts[0] if len(cnts) == 2 else cnts[1]\n",
    "    for c in cnts:\n",
    "        cv2.drawContours(img, [c], -1, (0, 0, 12), thickness=1)\n",
    "    fig, ax = plt.subplots() \n",
    "    ax.imshow(img)\n",
    "    ax.axis('off')\n",
    "    patterns = []\n",
    "    for i,cnt in enumerate(cnts):\n",
    "        ax.plot(cnt[:,:,0],cnt[:,:,1],'-',color='orange')\n",
    "        M = cv2.moments(cnt)\n",
    "        centroid = [int(M[\"m10\"] / M[\"m00\"]) , int(M[\"m01\"] / M[\"m00\"])]\n",
    "        edges_dic= calculate_edges(cnt,centroid)\n",
    "        cds = []\n",
    "        for key, edges in edges_dic.items():\n",
    "        \n",
    "            X =np.linspace(edges[0],edges[1]).astype(int) \n",
    "            Y = np.ones_like(X)*edges[2]\n",
    "            ax.plot(X,Y,color='red')\n",
    "            cds.append(abs(edges[0]-edges[1]))\n",
    "        patterns.append(cds)\n",
    "    patterns = np.array(patterns)\n",
    "\n",
    "    return fig,patterns\n"
   ]
  },
  {
   "cell_type": "code",
   "execution_count": 265,
   "metadata": {
    "ExecuteTime": {
     "end_time": "2024-02-19T23:38:24.734345Z",
     "start_time": "2024-02-19T23:38:24.724472Z"
    }
   },
   "outputs": [],
   "source": [
    "def post_process_mask(seg, min_size = 150, median_thr = 0.8):\n",
    "    seg = seg.astype('uint8') \n",
    "    nb_blobs, im_with_separated_blobs, stats, _ = cv2.connectedComponentsWithStats(seg)\n",
    "    # stats (and the silenced output centroids) gives some information about the blobs. See the docs for more information. \n",
    "    # here, we're interested only in the size of the blobs, contained in the last column of stats.\n",
    "    sizes = stats[:, -1]\n",
    "    # the following lines result in taking out the background which is also considered a component, which I find for most applications to not be the expected output.\n",
    "    # you may also keep the results as they are by commenting out the following lines. You'll have to update the ranges in the for loop below. \n",
    "    sizes = sizes[1:]\n",
    "    nb_blobs -= 1\n",
    "    # minimum size of particles we want to keep (number of pixels).\n",
    "    # here, it's a fixed value, but you can set it as you want, eg the mean of the sizes or whatever.\n",
    "    # output image with only the kept components\n",
    "    im_result = np.zeros_like(im_with_separated_blobs)\n",
    "    # for every component in the image, keep it only if it's above min_size\n",
    "    all_size,filtered_blobs = [],[]\n",
    "\n",
    "    for blob in range(nb_blobs):\n",
    "        if sizes[blob] >= min_size:\n",
    "            all_size.append(sizes[blob])\n",
    "            filtered_blobs.append(blob)\n",
    "            # see description of im_with_separated_blobs above\n",
    "    size_median = np.median(all_size)\n",
    "    for size,blob in zip(all_size,filtered_blobs):\n",
    "        if size > median_thr*size_median:\n",
    "            im_result[im_with_separated_blobs == blob + 1] = 255\n",
    "    return im_result"
   ]
  },
  {
   "cell_type": "code",
   "execution_count": 252,
   "metadata": {
    "ExecuteTime": {
     "end_time": "2024-02-19T23:30:19.230347Z",
     "start_time": "2024-02-19T23:30:19.224519Z"
    }
   },
   "outputs": [],
   "source": [
    "# modelPath = \"/Users/Meshkan/Documents/Projects/context_chatbot/doc/models/model_8000.torch\"\n",
    "modelPath = \"/Users/Meshkan/Documents/Projects/context_chatbot/doc/untracked_files/SEM/models/model_EPOCH_19_feb_29.torch\""
   ]
  },
  {
   "cell_type": "code",
   "execution_count": 139,
   "metadata": {
    "ExecuteTime": {
     "end_time": "2024-02-19T22:39:05.632840Z",
     "start_time": "2024-02-19T22:39:03.767613Z"
    }
   },
   "outputs": [
    {
     "data": {
      "text/plain": [
       "DeepLabV3(\n",
       "  (backbone): IntermediateLayerGetter(\n",
       "    (conv1): Conv2d(3, 64, kernel_size=(7, 7), stride=(2, 2), padding=(3, 3), bias=False)\n",
       "    (bn1): BatchNorm2d(64, eps=1e-05, momentum=0.1, affine=True, track_running_stats=True)\n",
       "    (relu): ReLU(inplace=True)\n",
       "    (maxpool): MaxPool2d(kernel_size=3, stride=2, padding=1, dilation=1, ceil_mode=False)\n",
       "    (layer1): Sequential(\n",
       "      (0): Bottleneck(\n",
       "        (conv1): Conv2d(64, 64, kernel_size=(1, 1), stride=(1, 1), bias=False)\n",
       "        (bn1): BatchNorm2d(64, eps=1e-05, momentum=0.1, affine=True, track_running_stats=True)\n",
       "        (conv2): Conv2d(64, 64, kernel_size=(3, 3), stride=(1, 1), padding=(1, 1), bias=False)\n",
       "        (bn2): BatchNorm2d(64, eps=1e-05, momentum=0.1, affine=True, track_running_stats=True)\n",
       "        (conv3): Conv2d(64, 256, kernel_size=(1, 1), stride=(1, 1), bias=False)\n",
       "        (bn3): BatchNorm2d(256, eps=1e-05, momentum=0.1, affine=True, track_running_stats=True)\n",
       "        (relu): ReLU(inplace=True)\n",
       "        (downsample): Sequential(\n",
       "          (0): Conv2d(64, 256, kernel_size=(1, 1), stride=(1, 1), bias=False)\n",
       "          (1): BatchNorm2d(256, eps=1e-05, momentum=0.1, affine=True, track_running_stats=True)\n",
       "        )\n",
       "      )\n",
       "      (1): Bottleneck(\n",
       "        (conv1): Conv2d(256, 64, kernel_size=(1, 1), stride=(1, 1), bias=False)\n",
       "        (bn1): BatchNorm2d(64, eps=1e-05, momentum=0.1, affine=True, track_running_stats=True)\n",
       "        (conv2): Conv2d(64, 64, kernel_size=(3, 3), stride=(1, 1), padding=(1, 1), bias=False)\n",
       "        (bn2): BatchNorm2d(64, eps=1e-05, momentum=0.1, affine=True, track_running_stats=True)\n",
       "        (conv3): Conv2d(64, 256, kernel_size=(1, 1), stride=(1, 1), bias=False)\n",
       "        (bn3): BatchNorm2d(256, eps=1e-05, momentum=0.1, affine=True, track_running_stats=True)\n",
       "        (relu): ReLU(inplace=True)\n",
       "      )\n",
       "      (2): Bottleneck(\n",
       "        (conv1): Conv2d(256, 64, kernel_size=(1, 1), stride=(1, 1), bias=False)\n",
       "        (bn1): BatchNorm2d(64, eps=1e-05, momentum=0.1, affine=True, track_running_stats=True)\n",
       "        (conv2): Conv2d(64, 64, kernel_size=(3, 3), stride=(1, 1), padding=(1, 1), bias=False)\n",
       "        (bn2): BatchNorm2d(64, eps=1e-05, momentum=0.1, affine=True, track_running_stats=True)\n",
       "        (conv3): Conv2d(64, 256, kernel_size=(1, 1), stride=(1, 1), bias=False)\n",
       "        (bn3): BatchNorm2d(256, eps=1e-05, momentum=0.1, affine=True, track_running_stats=True)\n",
       "        (relu): ReLU(inplace=True)\n",
       "      )\n",
       "    )\n",
       "    (layer2): Sequential(\n",
       "      (0): Bottleneck(\n",
       "        (conv1): Conv2d(256, 128, kernel_size=(1, 1), stride=(1, 1), bias=False)\n",
       "        (bn1): BatchNorm2d(128, eps=1e-05, momentum=0.1, affine=True, track_running_stats=True)\n",
       "        (conv2): Conv2d(128, 128, kernel_size=(3, 3), stride=(2, 2), padding=(1, 1), bias=False)\n",
       "        (bn2): BatchNorm2d(128, eps=1e-05, momentum=0.1, affine=True, track_running_stats=True)\n",
       "        (conv3): Conv2d(128, 512, kernel_size=(1, 1), stride=(1, 1), bias=False)\n",
       "        (bn3): BatchNorm2d(512, eps=1e-05, momentum=0.1, affine=True, track_running_stats=True)\n",
       "        (relu): ReLU(inplace=True)\n",
       "        (downsample): Sequential(\n",
       "          (0): Conv2d(256, 512, kernel_size=(1, 1), stride=(2, 2), bias=False)\n",
       "          (1): BatchNorm2d(512, eps=1e-05, momentum=0.1, affine=True, track_running_stats=True)\n",
       "        )\n",
       "      )\n",
       "      (1): Bottleneck(\n",
       "        (conv1): Conv2d(512, 128, kernel_size=(1, 1), stride=(1, 1), bias=False)\n",
       "        (bn1): BatchNorm2d(128, eps=1e-05, momentum=0.1, affine=True, track_running_stats=True)\n",
       "        (conv2): Conv2d(128, 128, kernel_size=(3, 3), stride=(1, 1), padding=(1, 1), bias=False)\n",
       "        (bn2): BatchNorm2d(128, eps=1e-05, momentum=0.1, affine=True, track_running_stats=True)\n",
       "        (conv3): Conv2d(128, 512, kernel_size=(1, 1), stride=(1, 1), bias=False)\n",
       "        (bn3): BatchNorm2d(512, eps=1e-05, momentum=0.1, affine=True, track_running_stats=True)\n",
       "        (relu): ReLU(inplace=True)\n",
       "      )\n",
       "      (2): Bottleneck(\n",
       "        (conv1): Conv2d(512, 128, kernel_size=(1, 1), stride=(1, 1), bias=False)\n",
       "        (bn1): BatchNorm2d(128, eps=1e-05, momentum=0.1, affine=True, track_running_stats=True)\n",
       "        (conv2): Conv2d(128, 128, kernel_size=(3, 3), stride=(1, 1), padding=(1, 1), bias=False)\n",
       "        (bn2): BatchNorm2d(128, eps=1e-05, momentum=0.1, affine=True, track_running_stats=True)\n",
       "        (conv3): Conv2d(128, 512, kernel_size=(1, 1), stride=(1, 1), bias=False)\n",
       "        (bn3): BatchNorm2d(512, eps=1e-05, momentum=0.1, affine=True, track_running_stats=True)\n",
       "        (relu): ReLU(inplace=True)\n",
       "      )\n",
       "      (3): Bottleneck(\n",
       "        (conv1): Conv2d(512, 128, kernel_size=(1, 1), stride=(1, 1), bias=False)\n",
       "        (bn1): BatchNorm2d(128, eps=1e-05, momentum=0.1, affine=True, track_running_stats=True)\n",
       "        (conv2): Conv2d(128, 128, kernel_size=(3, 3), stride=(1, 1), padding=(1, 1), bias=False)\n",
       "        (bn2): BatchNorm2d(128, eps=1e-05, momentum=0.1, affine=True, track_running_stats=True)\n",
       "        (conv3): Conv2d(128, 512, kernel_size=(1, 1), stride=(1, 1), bias=False)\n",
       "        (bn3): BatchNorm2d(512, eps=1e-05, momentum=0.1, affine=True, track_running_stats=True)\n",
       "        (relu): ReLU(inplace=True)\n",
       "      )\n",
       "    )\n",
       "    (layer3): Sequential(\n",
       "      (0): Bottleneck(\n",
       "        (conv1): Conv2d(512, 256, kernel_size=(1, 1), stride=(1, 1), bias=False)\n",
       "        (bn1): BatchNorm2d(256, eps=1e-05, momentum=0.1, affine=True, track_running_stats=True)\n",
       "        (conv2): Conv2d(256, 256, kernel_size=(3, 3), stride=(1, 1), padding=(1, 1), bias=False)\n",
       "        (bn2): BatchNorm2d(256, eps=1e-05, momentum=0.1, affine=True, track_running_stats=True)\n",
       "        (conv3): Conv2d(256, 1024, kernel_size=(1, 1), stride=(1, 1), bias=False)\n",
       "        (bn3): BatchNorm2d(1024, eps=1e-05, momentum=0.1, affine=True, track_running_stats=True)\n",
       "        (relu): ReLU(inplace=True)\n",
       "        (downsample): Sequential(\n",
       "          (0): Conv2d(512, 1024, kernel_size=(1, 1), stride=(1, 1), bias=False)\n",
       "          (1): BatchNorm2d(1024, eps=1e-05, momentum=0.1, affine=True, track_running_stats=True)\n",
       "        )\n",
       "      )\n",
       "      (1): Bottleneck(\n",
       "        (conv1): Conv2d(1024, 256, kernel_size=(1, 1), stride=(1, 1), bias=False)\n",
       "        (bn1): BatchNorm2d(256, eps=1e-05, momentum=0.1, affine=True, track_running_stats=True)\n",
       "        (conv2): Conv2d(256, 256, kernel_size=(3, 3), stride=(1, 1), padding=(2, 2), dilation=(2, 2), bias=False)\n",
       "        (bn2): BatchNorm2d(256, eps=1e-05, momentum=0.1, affine=True, track_running_stats=True)\n",
       "        (conv3): Conv2d(256, 1024, kernel_size=(1, 1), stride=(1, 1), bias=False)\n",
       "        (bn3): BatchNorm2d(1024, eps=1e-05, momentum=0.1, affine=True, track_running_stats=True)\n",
       "        (relu): ReLU(inplace=True)\n",
       "      )\n",
       "      (2): Bottleneck(\n",
       "        (conv1): Conv2d(1024, 256, kernel_size=(1, 1), stride=(1, 1), bias=False)\n",
       "        (bn1): BatchNorm2d(256, eps=1e-05, momentum=0.1, affine=True, track_running_stats=True)\n",
       "        (conv2): Conv2d(256, 256, kernel_size=(3, 3), stride=(1, 1), padding=(2, 2), dilation=(2, 2), bias=False)\n",
       "        (bn2): BatchNorm2d(256, eps=1e-05, momentum=0.1, affine=True, track_running_stats=True)\n",
       "        (conv3): Conv2d(256, 1024, kernel_size=(1, 1), stride=(1, 1), bias=False)\n",
       "        (bn3): BatchNorm2d(1024, eps=1e-05, momentum=0.1, affine=True, track_running_stats=True)\n",
       "        (relu): ReLU(inplace=True)\n",
       "      )\n",
       "      (3): Bottleneck(\n",
       "        (conv1): Conv2d(1024, 256, kernel_size=(1, 1), stride=(1, 1), bias=False)\n",
       "        (bn1): BatchNorm2d(256, eps=1e-05, momentum=0.1, affine=True, track_running_stats=True)\n",
       "        (conv2): Conv2d(256, 256, kernel_size=(3, 3), stride=(1, 1), padding=(2, 2), dilation=(2, 2), bias=False)\n",
       "        (bn2): BatchNorm2d(256, eps=1e-05, momentum=0.1, affine=True, track_running_stats=True)\n",
       "        (conv3): Conv2d(256, 1024, kernel_size=(1, 1), stride=(1, 1), bias=False)\n",
       "        (bn3): BatchNorm2d(1024, eps=1e-05, momentum=0.1, affine=True, track_running_stats=True)\n",
       "        (relu): ReLU(inplace=True)\n",
       "      )\n",
       "      (4): Bottleneck(\n",
       "        (conv1): Conv2d(1024, 256, kernel_size=(1, 1), stride=(1, 1), bias=False)\n",
       "        (bn1): BatchNorm2d(256, eps=1e-05, momentum=0.1, affine=True, track_running_stats=True)\n",
       "        (conv2): Conv2d(256, 256, kernel_size=(3, 3), stride=(1, 1), padding=(2, 2), dilation=(2, 2), bias=False)\n",
       "        (bn2): BatchNorm2d(256, eps=1e-05, momentum=0.1, affine=True, track_running_stats=True)\n",
       "        (conv3): Conv2d(256, 1024, kernel_size=(1, 1), stride=(1, 1), bias=False)\n",
       "        (bn3): BatchNorm2d(1024, eps=1e-05, momentum=0.1, affine=True, track_running_stats=True)\n",
       "        (relu): ReLU(inplace=True)\n",
       "      )\n",
       "      (5): Bottleneck(\n",
       "        (conv1): Conv2d(1024, 256, kernel_size=(1, 1), stride=(1, 1), bias=False)\n",
       "        (bn1): BatchNorm2d(256, eps=1e-05, momentum=0.1, affine=True, track_running_stats=True)\n",
       "        (conv2): Conv2d(256, 256, kernel_size=(3, 3), stride=(1, 1), padding=(2, 2), dilation=(2, 2), bias=False)\n",
       "        (bn2): BatchNorm2d(256, eps=1e-05, momentum=0.1, affine=True, track_running_stats=True)\n",
       "        (conv3): Conv2d(256, 1024, kernel_size=(1, 1), stride=(1, 1), bias=False)\n",
       "        (bn3): BatchNorm2d(1024, eps=1e-05, momentum=0.1, affine=True, track_running_stats=True)\n",
       "        (relu): ReLU(inplace=True)\n",
       "      )\n",
       "    )\n",
       "    (layer4): Sequential(\n",
       "      (0): Bottleneck(\n",
       "        (conv1): Conv2d(1024, 512, kernel_size=(1, 1), stride=(1, 1), bias=False)\n",
       "        (bn1): BatchNorm2d(512, eps=1e-05, momentum=0.1, affine=True, track_running_stats=True)\n",
       "        (conv2): Conv2d(512, 512, kernel_size=(3, 3), stride=(1, 1), padding=(2, 2), dilation=(2, 2), bias=False)\n",
       "        (bn2): BatchNorm2d(512, eps=1e-05, momentum=0.1, affine=True, track_running_stats=True)\n",
       "        (conv3): Conv2d(512, 2048, kernel_size=(1, 1), stride=(1, 1), bias=False)\n",
       "        (bn3): BatchNorm2d(2048, eps=1e-05, momentum=0.1, affine=True, track_running_stats=True)\n",
       "        (relu): ReLU(inplace=True)\n",
       "        (downsample): Sequential(\n",
       "          (0): Conv2d(1024, 2048, kernel_size=(1, 1), stride=(1, 1), bias=False)\n",
       "          (1): BatchNorm2d(2048, eps=1e-05, momentum=0.1, affine=True, track_running_stats=True)\n",
       "        )\n",
       "      )\n",
       "      (1): Bottleneck(\n",
       "        (conv1): Conv2d(2048, 512, kernel_size=(1, 1), stride=(1, 1), bias=False)\n",
       "        (bn1): BatchNorm2d(512, eps=1e-05, momentum=0.1, affine=True, track_running_stats=True)\n",
       "        (conv2): Conv2d(512, 512, kernel_size=(3, 3), stride=(1, 1), padding=(4, 4), dilation=(4, 4), bias=False)\n",
       "        (bn2): BatchNorm2d(512, eps=1e-05, momentum=0.1, affine=True, track_running_stats=True)\n",
       "        (conv3): Conv2d(512, 2048, kernel_size=(1, 1), stride=(1, 1), bias=False)\n",
       "        (bn3): BatchNorm2d(2048, eps=1e-05, momentum=0.1, affine=True, track_running_stats=True)\n",
       "        (relu): ReLU(inplace=True)\n",
       "      )\n",
       "      (2): Bottleneck(\n",
       "        (conv1): Conv2d(2048, 512, kernel_size=(1, 1), stride=(1, 1), bias=False)\n",
       "        (bn1): BatchNorm2d(512, eps=1e-05, momentum=0.1, affine=True, track_running_stats=True)\n",
       "        (conv2): Conv2d(512, 512, kernel_size=(3, 3), stride=(1, 1), padding=(4, 4), dilation=(4, 4), bias=False)\n",
       "        (bn2): BatchNorm2d(512, eps=1e-05, momentum=0.1, affine=True, track_running_stats=True)\n",
       "        (conv3): Conv2d(512, 2048, kernel_size=(1, 1), stride=(1, 1), bias=False)\n",
       "        (bn3): BatchNorm2d(2048, eps=1e-05, momentum=0.1, affine=True, track_running_stats=True)\n",
       "        (relu): ReLU(inplace=True)\n",
       "      )\n",
       "    )\n",
       "  )\n",
       "  (classifier): DeepLabHead(\n",
       "    (0): ASPP(\n",
       "      (convs): ModuleList(\n",
       "        (0): Sequential(\n",
       "          (0): Conv2d(2048, 256, kernel_size=(1, 1), stride=(1, 1), bias=False)\n",
       "          (1): BatchNorm2d(256, eps=1e-05, momentum=0.1, affine=True, track_running_stats=True)\n",
       "          (2): ReLU()\n",
       "        )\n",
       "        (1): ASPPConv(\n",
       "          (0): Conv2d(2048, 256, kernel_size=(3, 3), stride=(1, 1), padding=(12, 12), dilation=(12, 12), bias=False)\n",
       "          (1): BatchNorm2d(256, eps=1e-05, momentum=0.1, affine=True, track_running_stats=True)\n",
       "          (2): ReLU()\n",
       "        )\n",
       "        (2): ASPPConv(\n",
       "          (0): Conv2d(2048, 256, kernel_size=(3, 3), stride=(1, 1), padding=(24, 24), dilation=(24, 24), bias=False)\n",
       "          (1): BatchNorm2d(256, eps=1e-05, momentum=0.1, affine=True, track_running_stats=True)\n",
       "          (2): ReLU()\n",
       "        )\n",
       "        (3): ASPPConv(\n",
       "          (0): Conv2d(2048, 256, kernel_size=(3, 3), stride=(1, 1), padding=(36, 36), dilation=(36, 36), bias=False)\n",
       "          (1): BatchNorm2d(256, eps=1e-05, momentum=0.1, affine=True, track_running_stats=True)\n",
       "          (2): ReLU()\n",
       "        )\n",
       "        (4): ASPPPooling(\n",
       "          (0): AdaptiveAvgPool2d(output_size=1)\n",
       "          (1): Conv2d(2048, 256, kernel_size=(1, 1), stride=(1, 1), bias=False)\n",
       "          (2): BatchNorm2d(256, eps=1e-05, momentum=0.1, affine=True, track_running_stats=True)\n",
       "          (3): ReLU()\n",
       "        )\n",
       "      )\n",
       "      (project): Sequential(\n",
       "        (0): Conv2d(1280, 256, kernel_size=(1, 1), stride=(1, 1), bias=False)\n",
       "        (1): BatchNorm2d(256, eps=1e-05, momentum=0.1, affine=True, track_running_stats=True)\n",
       "        (2): ReLU()\n",
       "        (3): Dropout(p=0.5, inplace=False)\n",
       "      )\n",
       "    )\n",
       "    (1): Conv2d(256, 256, kernel_size=(3, 3), stride=(1, 1), padding=(1, 1), bias=False)\n",
       "    (2): BatchNorm2d(256, eps=1e-05, momentum=0.1, affine=True, track_running_stats=True)\n",
       "    (3): ReLU()\n",
       "    (4): Conv2d(256, 4, kernel_size=(1, 1), stride=(1, 1))\n",
       "  )\n",
       "  (aux_classifier): FCNHead(\n",
       "    (0): Conv2d(1024, 256, kernel_size=(3, 3), stride=(1, 1), padding=(1, 1), bias=False)\n",
       "    (1): BatchNorm2d(256, eps=1e-05, momentum=0.1, affine=True, track_running_stats=True)\n",
       "    (2): ReLU()\n",
       "    (3): Dropout(p=0.1, inplace=False)\n",
       "    (4): Conv2d(256, 21, kernel_size=(1, 1), stride=(1, 1))\n",
       "  )\n",
       ")"
      ]
     },
     "execution_count": 139,
     "metadata": {},
     "output_type": "execute_result"
    }
   ],
   "source": [
    "device = torch.device('cuda') if torch.cuda.is_available() else torch.device('cpu') \n",
    "model = torchvision.models.segmentation.deeplabv3_resnet50(pretrained=True)  \n",
    "model.classifier[4] = torch.nn.Conv2d(256, 4, kernel_size=(1, 1), stride=(1, 1)) \n",
    "model = model.to(device)  # Set net to GPU or CPU\n",
    "model.load_state_dict(torch.load(modelPath,map_location=torch.device('cpu'))) # Load trained model\n",
    "model.eval() # Set to evaluation mode"
   ]
  },
  {
   "cell_type": "code",
   "execution_count": 266,
   "metadata": {
    "ExecuteTime": {
     "end_time": "2024-02-19T23:38:46.958701Z",
     "start_time": "2024-02-19T23:38:29.042389Z"
    },
    "scrolled": true
   },
   "outputs": [
    {
     "name": "stdout",
     "output_type": "stream",
     "text": [
      "Bottom CDs : [115 116]\n",
      "Mid CDs : [93 93]\n",
      "Top CDs : [63 62]\n"
     ]
    },
    {
     "data": {
      "image/png": "[encoded data removed]",
      "text/plain": [
       "<Figure size 640x480 with 1 Axes>"
      ]
     },
     "metadata": {},
     "output_type": "display_data"
    }
   ],
   "source": [
    "root = tk.Tk()\n",
    "root.withdraw()\n",
    "file_path = filedialog.askopenfilename()\n",
    "seg,patterns = plot_prediction(model,device,file_path)\n",
    "print(f\"Bottom CDs : {str(np.array(patterns)[:,0])}\")\n",
    "print(f\"Mid CDs : {str(np.array(patterns)[:,1])}\")\n",
    "print(f\"Top CDs : {str(np.array(patterns)[:,2])}\")"
   ]
  },
  {
   "cell_type": "code",
   "execution_count": null,
   "metadata": {},
   "outputs": [],
   "source": []
  },
  {
   "cell_type": "code",
   "execution_count": null,
   "metadata": {},
   "outputs": [],
   "source": []
  },
  {
   "cell_type": "code",
   "execution_count": null,
   "metadata": {},
   "outputs": [],
   "source": []
  },
  {
   "cell_type": "code",
   "execution_count": null,
   "metadata": {},
   "outputs": [],
   "source": []
  },
  {
   "cell_type": "code",
   "execution_count": null,
   "metadata": {},
   "outputs": [],
   "source": []
  },
  {
   "cell_type": "code",
   "execution_count": 246,
   "metadata": {
    "ExecuteTime": {
     "end_time": "2024-02-19T23:29:49.728215Z",
     "start_time": "2024-02-19T23:29:49.722365Z"
    }
   },
   "outputs": [],
   "source": [
    "# import copy\n",
    "# mask = copy.deepcopy(seg)"
   ]
  },
  {
   "cell_type": "code",
   "execution_count": 251,
   "metadata": {
    "ExecuteTime": {
     "end_time": "2024-02-19T23:30:18.373965Z",
     "start_time": "2024-02-19T23:30:18.363894Z"
    }
   },
   "outputs": [],
   "source": [
    "# def calculate_edges(cnt,centroid):\n",
    "    \n",
    "#     centroid_x = centroid[0]\n",
    "#     centroid_y = centroid[1]\n",
    "#     left_bool = cnt[:,:,0] < centroid_x\n",
    "#     left_side = cnt[:,:,0][left_bool]\n",
    "#     edge_mid_left = left_side[np.argmin(abs(cnt[:,:,1][left_bool]-centroid_y))]\n",
    "#     right_bool = cnt[:,:,0] > centroid_x\n",
    "#     right_side = cnt[:,:,0][right_bool]\n",
    "#     edge_mid_right = right_side[np.argmin(abs(cnt[:,:,1][right_bool]-centroid_y))]\n",
    "    \n",
    "#     return (edge_mid_left,edge_mid_right)\n"
   ]
  },
  {
   "cell_type": "code",
   "execution_count": 267,
   "metadata": {
    "ExecuteTime": {
     "end_time": "2024-02-19T23:42:03.653993Z",
     "start_time": "2024-02-19T23:42:03.637414Z"
    }
   },
   "outputs": [],
   "source": [
    "# seg = seg.astype('uint8')\n",
    "# kernel = np.ones((3,3),np.uint8)\n",
    "# erosion = cv2.erode(seg, kernel, iterations=2)\n",
    "# output = cv2.dilate(erosion, kernel, iterations=2)"
   ]
  },
  {
   "cell_type": "code",
   "execution_count": 235,
   "metadata": {
    "ExecuteTime": {
     "end_time": "2024-02-19T23:25:44.240461Z",
     "start_time": "2024-02-19T23:25:44.234383Z"
    },
    "scrolled": false
   },
   "outputs": [],
   "source": [
    "#     mask = cv2.convertScaleAbs(mask)\n",
    "#     cnts = cv2.findContours(mask, cv2.RETR_EXTERNAL, cv2.CHAIN_APPROX_SIMPLE)\n",
    "#     cnts = cnts[0] if len(cnts) == 2 else cnts[1]\n",
    "#     for c in cnts:\n",
    "#         cv2.drawContours(seg, [c], -1, (0, 0, 12), thickness=1)\n",
    "#     fig, ax = plt.subplots() \n",
    "#     ax.imshow(seg)\n",
    "# #     ax.axis('off')\n",
    "#     patterns = []\n",
    "#     for i,cnt in enumerate(cnts):\n",
    "#         ax.plot(cnt[:,:,0],cnt[:,:,1],'-',color='orange')\n",
    "#         M = cv2.moments(cnt)\n",
    "#         centroid = [int(M[\"m10\"] / M[\"m00\"]) , int(M[\"m01\"] / M[\"m00\"])]\n",
    "#         edges_dic= calculate_edges(cnt,centroid)\n",
    "#         cds = []\n",
    "#         for key, edges in edges_dic.items():\n",
    "        \n",
    "#             X =np.linspace(edges[0],edges[1]).astype(int) \n",
    "#             Y = np.ones_like(X)*edges[2]\n",
    "#             ax.plot(X,Y,color='red')\n",
    "#             cds.append(abs(edges[0]-edges[1]))\n",
    "#         patterns.append(cds)\n",
    "#     patterns = np.array(patterns)\n",
    "        \n"
   ]
  }
 ],
 "metadata": {
  "kernelspec": {
   "display_name": "dev",
   "language": "python",
   "name": "dev"
  },
  "language_info": {
   "codemirror_mode": {
    "name": "ipython",
    "version": 3
   },
   "file_extension": ".py",
   "mimetype": "text/x-python",
   "name": "python",
   "nbconvert_exporter": "python",
   "pygments_lexer": "ipython3",
   "version": "3.10.0"
  }
 },
 "nbformat": 4,
 "nbformat_minor": 4
}
