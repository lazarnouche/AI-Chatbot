{
 "cells": [
  {
   "cell_type": "code",
   "execution_count": 2,
   "metadata": {
    "ExecuteTime": {
     "end_time": "2024-02-14T12:44:11.974715Z",
     "start_time": "2024-02-14T12:44:11.941046Z"
    }
   },
   "outputs": [
    {
     "name": "stdout",
     "output_type": "stream",
     "text": [
      "3.10.0\n",
      "The autoreload extension is already loaded. To reload it, use:\n",
      "  %reload_ext autoreload\n"
     ]
    }
   ],
   "source": [
    "import sys, platform, os,time\n",
    "print(platform.python_version())\n",
    "%load_ext autoreload\n",
    "%autoreload 2\n",
    "import os"
   ]
  },
  {
   "cell_type": "code",
   "execution_count": 3,
   "metadata": {
    "ExecuteTime": {
     "end_time": "2024-02-14T12:44:12.424834Z",
     "start_time": "2024-02-14T12:44:12.392111Z"
    }
   },
   "outputs": [],
   "source": [
    "os.chdir(\"/Users/Meshkan/Documents/Projects/context_chatbot\")"
   ]
  },
  {
   "cell_type": "code",
   "execution_count": 16,
   "metadata": {
    "ExecuteTime": {
     "end_time": "2024-02-14T12:52:22.862835Z",
     "start_time": "2024-02-14T12:52:22.830921Z"
    }
   },
   "outputs": [],
   "source": [
    "PATH = \"doc/untracked_files/SEM\""
   ]
  },
  {
   "cell_type": "code",
   "execution_count": 14,
   "metadata": {
    "ExecuteTime": {
     "end_time": "2024-02-14T12:50:15.049665Z",
     "start_time": "2024-02-14T12:50:15.017373Z"
    }
   },
   "outputs": [],
   "source": [
    "splits = ['train', 'val']\n",
    "DST_DIR = PATH +os.sep + \"split_data\"\n",
    "IMG_DIR = os.path.join(DST_DIR, 'images')\n",
    "LBL_DIR = os.path.join(DST_DIR, 'masks')\n",
    "\n",
    "ROOT_IMG_DIR = PATH +os.sep + \"images\"\n",
    "ROOT_LBL_DIR = PATH +os.sep + \"labels\""
   ]
  },
  {
   "cell_type": "code",
   "execution_count": 15,
   "metadata": {
    "ExecuteTime": {
     "end_time": "2024-02-14T12:50:15.618713Z",
     "start_time": "2024-02-14T12:50:15.504635Z"
    }
   },
   "outputs": [],
   "source": [
    "os.makedirs(DST_DIR, exist_ok=True)\n",
    "for split in splits:\n",
    "    os.makedirs(os.path.join(IMG_DIR, split), exist_ok=True)\n",
    "for split in splits:\n",
    "    os.makedirs(os.path.join(LBL_DIR, split), exist_ok=True)"
   ]
  },
  {
   "cell_type": "code",
   "execution_count": null,
   "metadata": {
    "ExecuteTime": {
     "end_time": "2024-02-14T12:49:51.825220Z",
     "start_time": "2024-02-14T12:49:51.785418Z"
    }
   },
   "outputs": [],
   "source": []
  },
  {
   "cell_type": "code",
   "execution_count": null,
   "metadata": {},
   "outputs": [],
   "source": []
  }
 ],
 "metadata": {
  "kernelspec": {
   "display_name": "dev",
   "language": "python",
   "name": "dev"
  },
  "language_info": {
   "codemirror_mode": {
    "name": "ipython",
    "version": 3
   },
   "file_extension": ".py",
   "mimetype": "text/x-python",
   "name": "python",
   "nbconvert_exporter": "python",
   "pygments_lexer": "ipython3",
   "version": "3.10.0"
  }
 },
 "nbformat": 4,
 "nbformat_minor": 4
}
